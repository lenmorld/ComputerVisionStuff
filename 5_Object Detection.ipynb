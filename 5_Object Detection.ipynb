{
 "cells": [
  {
   "cell_type": "markdown",
   "metadata": {},
   "source": [
    "### Why?\n",
    "\n",
    "- Labeling scenes\n",
    "- Robot navigation\n",
    "- self driving cars\n",
    "- body recognition (MS Kinect)\n",
    "- disease and cancer prevention\n",
    "- facial recognitiono\n",
    "- handwriting recognition\n",
    "- identifying objects in satellite images\n",
    "\n",
    "\n",
    "## How?\n",
    "\n",
    "### Template matching"
   ]
  }
 ],
 "metadata": {
  "kernelspec": {
   "display_name": "Python 2",
   "language": "python",
   "name": "python2"
  },
  "language_info": {
   "codemirror_mode": {
    "name": "ipython",
    "version": 2
   },
   "file_extension": ".py",
   "mimetype": "text/x-python",
   "name": "python",
   "nbconvert_exporter": "python",
   "pygments_lexer": "ipython2",
   "version": "2.7.6"
  }
 },
 "nbformat": 4,
 "nbformat_minor": 2
}
