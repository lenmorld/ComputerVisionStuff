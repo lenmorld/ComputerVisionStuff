{
 "cells": [
  {
   "cell_type": "markdown",
   "metadata": {},
   "source": [
    "### RGB, HYV, CMYK\n",
    "\n",
    "#### RGB\n",
    "RGB is additive\n",
    "order in array of RGB is BGR -> 0xRRGGBB00 for 8-bit\n",
    "\n",
    "#### HSV (Hue, Saturation, Value/Brightness)\n",
    "\n",
    "Hue : color value 0-179\n",
    "Saturation (Vibrancy/Saturation): 0-255\n",
    "Value (Brightness): 0-255\n",
    "\n",
    "useful in color segmentation\n",
    "HSV its easier to set color ranges to filter specific colors as we perceive them\n",
    "\n",
    "Red: 165 - 15\n",
    "Green: 45 - 75\n",
    "Blue: 90 - 120\n",
    "\n"
   ]
  },
  {
   "cell_type": "code",
   "execution_count": 3,
   "metadata": {
    "collapsed": true
   },
   "outputs": [],
   "source": [
    "import cv2\n",
    "import numpy as np\n",
    "\n",
    "image = cv2.imread('./MasterOpenCV/images/input.jpg')"
   ]
  },
  {
   "cell_type": "markdown",
   "metadata": {},
   "source": [
    "#### See color level of First pixel (0,0)"
   ]
  },
  {
   "cell_type": "code",
   "execution_count": 12,
   "metadata": {},
   "outputs": [
    {
     "name": "stdout",
     "output_type": "stream",
     "text": [
      "12 18 31\n",
      "13 19 32\n",
      "Color dimensions (3D) (830, 1245, 3)\n"
     ]
    }
   ],
   "source": [
    "B, G, R = image[0, 0]\n",
    "print B, G, R\n",
    "\n",
    "B, G, R = image[10, 50]\n",
    "print B, G, R\n",
    "\n",
    "print \"Color dimensions (3D)\", image.shape"
   ]
  },
  {
   "cell_type": "markdown",
   "metadata": {},
   "source": [
    "#### Convert to grayscale"
   ]
  },
  {
   "cell_type": "code",
   "execution_count": 15,
   "metadata": {},
   "outputs": [
    {
     "name": "stdout",
     "output_type": "stream",
     "text": [
      "(830, 1245)\n",
      "21\n",
      "22\n",
      "Grayscale dimensions (2D) (830, 1245)\n"
     ]
    }
   ],
   "source": [
    "gray_img = cv2.cvtColor(image, cv2.COLOR_BGR2GRAY)\n",
    "print gray_img.shape\n",
    "\n",
    "print gray_img[0, 0]\n",
    "print gray_img[10, 50]\n",
    "\n",
    "print \"Grayscale dimensions (2D)\", gray_img.shape"
   ]
  },
  {
   "cell_type": "markdown",
   "metadata": {},
   "source": [
    "### HSV Components seperately"
   ]
  },
  {
   "cell_type": "code",
   "execution_count": 20,
   "metadata": {},
   "outputs": [],
   "source": [
    "image = cv2.imread('./MasterOpenCV/images/input.jpg')\n",
    "hsv_img = cv2.cvtColor(image, cv2.COLOR_BGR2HSV)\n",
    "\n",
    "cv2.imshow('HSV Image', hsv_img)\n",
    "cv2.imshow('Hue Channel', hsv_img[:, :, 0])                  # hue: 0\n",
    "cv2.imshow('Saturation Channel', hsv_img[:, :, 1])           # sat: 1\n",
    "cv2.imshow('Value Channel', hsv_img[:, :, 2])                # value: 2    \n",
    "\n",
    "cv2.waitKey()\n",
    "cv2.destroyAllWindows()\n"
   ]
  },
  {
   "cell_type": "markdown",
   "metadata": {},
   "source": [
    "###  RGB Components seperately"
   ]
  },
  {
   "cell_type": "code",
   "execution_count": 4,
   "metadata": {},
   "outputs": [
    {
     "name": "stdout",
     "output_type": "stream",
     "text": [
      "(830, 1245)\n"
     ]
    }
   ],
   "source": [
    "image = cv2.imread('./images/input.jpg')\n",
    "\n",
    "# OpenCV's 'split' function splits the image into each color index\n",
    "B, G, R = cv2.split(image)\n",
    "\n",
    "print B.shape\n",
    "cv2.imshow(\"Red\", R)                # all 3 going to show as grayscale because its only one component\n",
    "cv2.imshow(\"Green\", G)\n",
    "cv2.imshow(\"Blue\", B)\n",
    "cv2.waitKey(0)\n",
    "cv2.destroyAllWindows()\n",
    "\n",
    "# Let's re-make the original image, \n",
    "merged = cv2.merge([B, G, R]) \n",
    "cv2.imshow(\"Merged\", merged) \n",
    "\n",
    "# Let's amplify the blue color\n",
    "merged = cv2.merge([B+100, G, R])\n",
    "cv2.imshow(\"Merged with Blue Amplified\", merged) \n",
    "\n",
    "# Let's amplify the red color\n",
    "merged = cv2.merge([B, G, R+100])\n",
    "cv2.imshow(\"Merged with Red Amplified\", merged) \n",
    "\n",
    "cv2.waitKey(0)\n",
    "cv2.destroyAllWindows()"
   ]
  },
  {
   "cell_type": "markdown",
   "metadata": {},
   "source": [
    "### creating array of zeros with the same shape as orig image"
   ]
  },
  {
   "cell_type": "code",
   "execution_count": 5,
   "metadata": {},
   "outputs": [
    {
     "data": {
      "text/plain": [
       "(830, 1245)"
      ]
     },
     "execution_count": 5,
     "metadata": {},
     "output_type": "execute_result"
    }
   ],
   "source": [
    "image.shape[:2]"
   ]
  },
  {
   "cell_type": "code",
   "execution_count": null,
   "metadata": {},
   "outputs": [],
   "source": [
    "import cv2\n",
    "import numpy as np\n",
    "\n",
    "image = cv2.imread('./images/input.jpg')\n",
    "\n",
    "B, G, R = cv2.split(image)\n",
    "\n",
    "# Let's create a matrix of zeros \n",
    "# with dimensions of the image h x w  \n",
    "zeros = np.zeros(image.shape[:2], dtype = \"uint8\")  \n",
    "\n",
    "cv2.imshow(\"Red\", cv2.merge([zeros, zeros, R]))  # e.g. 0 Blue, 0 Green, R\n",
    "cv2.imshow(\"Green\", cv2.merge([zeros, G, zeros]))   # 0 Blue, G, 0 R\n",
    "cv2.imshow(\"Blue\", cv2.merge([B, zeros, zeros]))\n",
    "\n",
    "cv2.waitKey(0)\n",
    "cv2.destroyAllWindows()"
   ]
  }
 ],
 "metadata": {
  "kernelspec": {
   "display_name": "Python 2",
   "language": "python",
   "name": "python2"
  },
  "language_info": {
   "codemirror_mode": {
    "name": "ipython",
    "version": 2
   },
   "file_extension": ".py",
   "mimetype": "text/x-python",
   "name": "python",
   "nbconvert_exporter": "python",
   "pygments_lexer": "ipython2",
   "version": "2.7.6"
  }
 },
 "nbformat": 4,
 "nbformat_minor": 2
}
