{
 "cells": [
  {
   "cell_type": "code",
   "execution_count": null,
   "metadata": {},
   "outputs": [],
   "source": [
    "import cv2\n",
    "import numpy as np\n",
    "\n",
    "# sketch generating function\n",
    "def sketch(image):\n",
    "    # convert image to grayscale\n",
    "    img_gray = cv2.cvtColor(image, cv2.COLOR_BGR2GRAY)\n",
    "    \n",
    "    # clean up using Gaussian blur, reduce noise\n",
    "    # http://docs.opencv.org/3.1.0/d4/d13/tutorial_py_filtering.html\n",
    "    img_gray_blur = cv2.GaussianBlur(img_gray, (5,5), 0)\n",
    "    \n",
    "    # extract edges\n",
    "    # Canny Edge Detection uses gradient values as thresholds\n",
    "    canny_edges = cv2.Canny(img_gray_blur, 10, 70)    # change 2 thresholds based on lighting conditions\n",
    "    \n",
    "    # do an invert, binarize the image\n",
    "    ret, mask = cv2.threshold(canny_edges, 70, 255, cv2.THRESH_BINARY_INV)    # pencil and paper effect\n",
    "    \n",
    "    return mask\n",
    "\n",
    "\n",
    "# init. webcam, cap is the object provided by VideoCapture\n",
    "# it contains a boolean indicating if it was successful (ret)\n",
    "# and contains the iamges collected from the webcam\n",
    "cap = cv2.VideoCapture(0)\n",
    "\n",
    "while True:\n",
    "    ret, frame = cap.read()                # pull image from webcam continously\n",
    "    cv2.imshow('Live sketcher!', sketch(frame))\n",
    "    if cv2.waitKey(1) == 13:                # enter key\n",
    "        break\n",
    "        \n",
    "# Release camera and close windows\n",
    "cap.release()\n",
    "cv2.destroyAllWindows()\n",
    "        "
   ]
  }
 ],
 "metadata": {
  "kernelspec": {
   "display_name": "Python 2",
   "language": "python",
   "name": "python2"
  },
  "language_info": {
   "codemirror_mode": {
    "name": "ipython",
    "version": 2
   },
   "file_extension": ".py",
   "mimetype": "text/x-python",
   "name": "python",
   "nbconvert_exporter": "python",
   "pygments_lexer": "ipython2",
   "version": "2.7.6"
  }
 },
 "nbformat": 4,
 "nbformat_minor": 2
}
