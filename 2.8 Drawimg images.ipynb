{
 "cells": [
  {
   "cell_type": "markdown",
   "metadata": {},
   "source": [
    "## Drawing images and shapes"
   ]
  },
  {
   "cell_type": "code",
   "execution_count": 1,
   "metadata": {
    "collapsed": true
   },
   "outputs": [],
   "source": [
    "import cv2\n",
    "import numpy as np\n",
    "\n",
    "# black image, using RGB\n",
    "image = np.zeros((512, 512, 3), np.uint8)\n",
    "\n",
    "# black image, just using black and white\n",
    "image_bw = np.zeros((512, 512), np.uint8)\n",
    "\n",
    "cv2.imshow('Black Rectangle (Color)', image)\n",
    "cv2.imshow('Black Rectangle (B&W)', image_bw)\n",
    "\n",
    "cv2.waitKey(0)\n",
    "cv2.destroyAllWindows()"
   ]
  },
  {
   "cell_type": "markdown",
   "metadata": {},
   "source": [
    "### Draw a line over black square"
   ]
  },
  {
   "cell_type": "code",
   "execution_count": 2,
   "metadata": {
    "collapsed": true
   },
   "outputs": [],
   "source": [
    "image = np.zeros((512, 512, 3), np.uint8)\n",
    "cv2.line(image, (0,0), (511, 511), (255, 127, 0), 5)\n",
    "cv2.imshow(\"Green Line\", image)\n",
    "\n",
    "cv2.waitKey(0)\n",
    "cv2.destroyAllWindows()"
   ]
  },
  {
   "cell_type": "markdown",
   "metadata": {},
   "source": [
    "### Rectangle, Circle, Polygons"
   ]
  },
  {
   "cell_type": "code",
   "execution_count": 2,
   "metadata": {},
   "outputs": [],
   "source": [
    "import cv2\n",
    "import numpy as np\n",
    "\n",
    "image = np.zeros((512, 512, 3), np.uint8)\n",
    "\n",
    "# cv2.circle(image, center, radius, color, fill)\n",
    "cv2.circle(image, (350, 350), 100, (15, 75, 50), -1)\n",
    "\n",
    "# cv2.rectangle(image, starting vertex, opposite vertex, color, thickness)\n",
    "cv2.rectangle(image, (100,100), (300,250), (127,50,127), -1)           # -1 for fill, \n",
    "\n",
    "cv2.rectangle(image, (100,100), (400,350), (100,55,300), 5)           # e.g. 5 for thick border\n",
    "\n",
    "######## POLYGONS #############\n",
    "# Let's define four points\n",
    "pts = np.array( [[10,50], [400,50], [90,200], [50,500]], np.int32)\n",
    "\n",
    "# Let's now reshape our points in form  required by polylines\n",
    "pts = pts.reshape((-1,1,2))\n",
    "\n",
    "\n",
    "# image, pts, closed or not, color, thickness\n",
    "cv2.polylines(image, [pts], True, (0,0,255), 3)\n",
    "\n",
    "\n",
    "cv2.imshow('SHAPES', image)\n",
    "cv2.waitKey(0)\n",
    "cv2.destroyAllWindows()"
   ]
  },
  {
   "cell_type": "markdown",
   "metadata": {},
   "source": [
    "### Let's even add text with cv2.putText\n",
    "\n",
    "cv2.putText(image, 'Text to Display', bottom left starting point, Font, Font Size, Color, Thickness)\n",
    "\n",
    "- FONT_HERSHEY_SIMPLEX, FONT_HERSHEY_PLAIN\n",
    "- FONT_HERSHEY_DUPLEX,FONT_HERSHEY_COMPLEX \n",
    "- FONT_HERSHEY_TRIPLEX, FONT_HERSHEY_COMPLEX_SMALL\n",
    "- FONT_HERSHEY_SCRIPT_SIMPLEX\n",
    "- FONT_HERSHEY_SCRIPT_COMPLEX"
   ]
  },
  {
   "cell_type": "code",
   "execution_count": 3,
   "metadata": {},
   "outputs": [],
   "source": [
    "image = np.zeros((512,512,3), np.uint8)\n",
    "\n",
    "cv2.putText(image, 'Hello World!', (75,290), cv2.FONT_HERSHEY_COMPLEX, 2, (100,170,0), 3)\n",
    "cv2.imshow(\"Hello World!\", image)\n",
    "cv2.waitKey(0)\n",
    "cv2.destroyAllWindows()"
   ]
  }
 ],
 "metadata": {
  "kernelspec": {
   "display_name": "Python 2",
   "language": "python",
   "name": "python2"
  },
  "language_info": {
   "codemirror_mode": {
    "name": "ipython",
    "version": 2
   },
   "file_extension": ".py",
   "mimetype": "text/x-python",
   "name": "python",
   "nbconvert_exporter": "python",
   "pygments_lexer": "ipython2",
   "version": "2.7.6"
  }
 },
 "nbformat": 4,
 "nbformat_minor": 2
}
